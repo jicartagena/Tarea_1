import pandas as pd


df = pd.read_csv('tweets_2022_abril_junio.csv')

df.head()
