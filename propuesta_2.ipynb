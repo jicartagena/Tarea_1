{
 "cells": [
  {
   "cell_type": "code",
   "execution_count": 1,
   "metadata": {},
   "outputs": [],
   "source": [
    "import pandas as pd\n",
    "from collections import defaultdict\n",
    "from datasketch import MinHashLSHForest, MinHash"
   ]
  },
  {
   "cell_type": "code",
   "execution_count": 2,
   "metadata": {},
   "outputs": [],
   "source": [
    "def jaccard_similarity(A, B):\n",
    "    # Convert the sets to sets for better performance\n",
    "    set_A = set(A)\n",
    "    set_B = set(B)\n",
    "\n",
    "    # Calculate the intersection size\n",
    "    intersection = len(set_A & set_B)\n",
    "\n",
    "    # Calculate the union size\n",
    "    union = len(set_A | set_B)\n",
    "\n",
    "    # Take the ratio of sizes\n",
    "    if union == 0:\n",
    "        return 0\n",
    "    similarity = intersection / union\n",
    "\n",
    "    return similarity"
   ]
  },
  {
   "cell_type": "code",
   "execution_count": 3,
   "metadata": {},
   "outputs": [],
   "source": [
    "df = pd.read_csv('tweets_2022_abril_junio.csv') # cuidado al ejecutar"
   ]
  },
  {
   "cell_type": "code",
   "execution_count": 4,
   "metadata": {},
   "outputs": [],
   "source": [
    "df.drop(['id', 'created_at', 'retweet_count', 'favorite_count'], axis=1, inplace=True)"
   ]
  },
  {
   "cell_type": "code",
   "execution_count": 5,
   "metadata": {},
   "outputs": [
    {
     "data": {
      "text/plain": [
       "(4594980, 2)"
      ]
     },
     "execution_count": 5,
     "metadata": {},
     "output_type": "execute_result"
    }
   ],
   "source": [
    "df.shape"
   ]
  },
  {
   "cell_type": "code",
   "execution_count": 6,
   "metadata": {},
   "outputs": [],
   "source": [
    "tweets_originales = df.loc[df['text'].str[:4].str.contains('RT @',case=False) == False]\n",
    "\n",
    "rt = df.loc[df['text'].str[:4].str.contains('RT @',case=False) == True]"
   ]
  },
  {
   "cell_type": "code",
   "execution_count": 7,
   "metadata": {},
   "outputs": [
    {
     "data": {
      "text/html": [
       "<div>\n",
       "<style scoped>\n",
       "    .dataframe tbody tr th:only-of-type {\n",
       "        vertical-align: middle;\n",
       "    }\n",
       "\n",
       "    .dataframe tbody tr th {\n",
       "        vertical-align: top;\n",
       "    }\n",
       "\n",
       "    .dataframe thead th {\n",
       "        text-align: right;\n",
       "    }\n",
       "</style>\n",
       "<table border=\"1\" class=\"dataframe\">\n",
       "  <thead>\n",
       "    <tr style=\"text-align: right;\">\n",
       "      <th></th>\n",
       "      <th>screen_name</th>\n",
       "      <th>text</th>\n",
       "    </tr>\n",
       "  </thead>\n",
       "  <tbody>\n",
       "    <tr>\n",
       "      <th>6</th>\n",
       "      <td>simonlodijo</td>\n",
       "      <td>@unveranonaranja @ruidosafest @franciscamusic ...</td>\n",
       "    </tr>\n",
       "    <tr>\n",
       "      <th>9</th>\n",
       "      <td>MacaSimplemente</td>\n",
       "      <td>@LaSuRivas @ElisaLoncon @siliconvalle @Valdebe...</td>\n",
       "    </tr>\n",
       "    <tr>\n",
       "      <th>12</th>\n",
       "      <td>LuisVer75699645</td>\n",
       "      <td>@teanval0207 @izkia @arturozunigaj Excelente...</td>\n",
       "    </tr>\n",
       "    <tr>\n",
       "      <th>13</th>\n",
       "      <td>MITERRED</td>\n",
       "      <td>@mcubillossigall https://t.co/gkg5PwbZhZ</td>\n",
       "    </tr>\n",
       "    <tr>\n",
       "      <th>14</th>\n",
       "      <td>piaelizabethvm</td>\n",
       "      <td>@simonlodijo @ruidosafest @franciscamusic @gio...</td>\n",
       "    </tr>\n",
       "  </tbody>\n",
       "</table>\n",
       "</div>"
      ],
      "text/plain": [
       "        screen_name                                               text\n",
       "6       simonlodijo  @unveranonaranja @ruidosafest @franciscamusic ...\n",
       "9   MacaSimplemente  @LaSuRivas @ElisaLoncon @siliconvalle @Valdebe...\n",
       "12  LuisVer75699645    @teanval0207 @izkia @arturozunigaj Excelente...\n",
       "13         MITERRED           @mcubillossigall https://t.co/gkg5PwbZhZ\n",
       "14   piaelizabethvm  @simonlodijo @ruidosafest @franciscamusic @gio..."
      ]
     },
     "execution_count": 7,
     "metadata": {},
     "output_type": "execute_result"
    }
   ],
   "source": [
    "tweets_originales.head()"
   ]
  },
  {
   "cell_type": "code",
   "execution_count": 8,
   "metadata": {},
   "outputs": [
    {
     "data": {
      "text/html": [
       "<div>\n",
       "<style scoped>\n",
       "    .dataframe tbody tr th:only-of-type {\n",
       "        vertical-align: middle;\n",
       "    }\n",
       "\n",
       "    .dataframe tbody tr th {\n",
       "        vertical-align: top;\n",
       "    }\n",
       "\n",
       "    .dataframe thead th {\n",
       "        text-align: right;\n",
       "    }\n",
       "</style>\n",
       "<table border=\"1\" class=\"dataframe\">\n",
       "  <thead>\n",
       "    <tr style=\"text-align: right;\">\n",
       "      <th></th>\n",
       "      <th>screen_name</th>\n",
       "      <th>text</th>\n",
       "    </tr>\n",
       "  </thead>\n",
       "  <tbody>\n",
       "    <tr>\n",
       "      <th>0</th>\n",
       "      <td>h0l4d4ni3l4</td>\n",
       "      <td>RT @ValeMirandaCC: Tras casi 50 años del golpe...</td>\n",
       "    </tr>\n",
       "    <tr>\n",
       "      <th>1</th>\n",
       "      <td>Claudio70932894</td>\n",
       "      <td>RT @UTDTrabajoDigno: Mañana jueves a las 18hrs...</td>\n",
       "    </tr>\n",
       "    <tr>\n",
       "      <th>2</th>\n",
       "      <td>Cesar_A_RR</td>\n",
       "      <td>RT @JaimeGuajardoR: Aquí está el aporte de @te...</td>\n",
       "    </tr>\n",
       "    <tr>\n",
       "      <th>3</th>\n",
       "      <td>rosmarieher</td>\n",
       "      <td>RT @melnicksergio: la pelotudez no tiene limit...</td>\n",
       "    </tr>\n",
       "    <tr>\n",
       "      <th>4</th>\n",
       "      <td>GQuelluen</td>\n",
       "      <td>RT @BSepulvedaHales: Ante la circulación de no...</td>\n",
       "    </tr>\n",
       "  </tbody>\n",
       "</table>\n",
       "</div>"
      ],
      "text/plain": [
       "       screen_name                                               text\n",
       "0      h0l4d4ni3l4  RT @ValeMirandaCC: Tras casi 50 años del golpe...\n",
       "1  Claudio70932894  RT @UTDTrabajoDigno: Mañana jueves a las 18hrs...\n",
       "2       Cesar_A_RR  RT @JaimeGuajardoR: Aquí está el aporte de @te...\n",
       "3      rosmarieher  RT @melnicksergio: la pelotudez no tiene limit...\n",
       "4        GQuelluen  RT @BSepulvedaHales: Ante la circulación de no..."
      ]
     },
     "execution_count": 8,
     "metadata": {},
     "output_type": "execute_result"
    }
   ],
   "source": [
    "rt.head()"
   ]
  },
  {
   "cell_type": "code",
   "execution_count": 9,
   "metadata": {},
   "outputs": [
    {
     "name": "stderr",
     "output_type": "stream",
     "text": [
      "C:\\Users\\jor_x\\AppData\\Local\\Temp\\ipykernel_23952\\4236830760.py:9: SettingWithCopyWarning: \n",
      "A value is trying to be set on a copy of a slice from a DataFrame\n",
      "\n",
      "See the caveats in the documentation: https://pandas.pydata.org/pandas-docs/stable/user_guide/indexing.html#returning-a-view-versus-a-copy\n",
      "  tweets_originales.rename(columns={'screen_name': 'user', 'text': 'tweet'}, inplace=True)\n"
     ]
    },
    {
     "data": {
      "text/html": [
       "<div>\n",
       "<style scoped>\n",
       "    .dataframe tbody tr th:only-of-type {\n",
       "        vertical-align: middle;\n",
       "    }\n",
       "\n",
       "    .dataframe tbody tr th {\n",
       "        vertical-align: top;\n",
       "    }\n",
       "\n",
       "    .dataframe thead th {\n",
       "        text-align: right;\n",
       "    }\n",
       "</style>\n",
       "<table border=\"1\" class=\"dataframe\">\n",
       "  <thead>\n",
       "    <tr style=\"text-align: right;\">\n",
       "      <th></th>\n",
       "      <th>user</th>\n",
       "      <th>tweet</th>\n",
       "    </tr>\n",
       "  </thead>\n",
       "  <tbody>\n",
       "    <tr>\n",
       "      <th>0</th>\n",
       "      <td>simonlodijo</td>\n",
       "      <td>@unveranonaranja @ruidosafest @franciscamusic ...</td>\n",
       "    </tr>\n",
       "    <tr>\n",
       "      <th>1</th>\n",
       "      <td>MacaSimplemente</td>\n",
       "      <td>@LaSuRivas @ElisaLoncon @siliconvalle @Valdebe...</td>\n",
       "    </tr>\n",
       "    <tr>\n",
       "      <th>2</th>\n",
       "      <td>LuisVer75699645</td>\n",
       "      <td>@teanval0207 @izkia @arturozunigaj Excelente...</td>\n",
       "    </tr>\n",
       "    <tr>\n",
       "      <th>3</th>\n",
       "      <td>MITERRED</td>\n",
       "      <td>@mcubillossigall https://t.co/gkg5PwbZhZ</td>\n",
       "    </tr>\n",
       "    <tr>\n",
       "      <th>4</th>\n",
       "      <td>piaelizabethvm</td>\n",
       "      <td>@simonlodijo @ruidosafest @franciscamusic @gio...</td>\n",
       "    </tr>\n",
       "    <tr>\n",
       "      <th>...</th>\n",
       "      <td>...</td>\n",
       "      <td>...</td>\n",
       "    </tr>\n",
       "    <tr>\n",
       "      <th>1442712</th>\n",
       "      <td>hocikonapatriot</td>\n",
       "      <td>@tere_marinovic fuiste la voz de muchos chilen...</td>\n",
       "    </tr>\n",
       "    <tr>\n",
       "      <th>1442713</th>\n",
       "      <td>Caroline_walls6</td>\n",
       "      <td>@tere_marinovic Si la Tere pudiera decir lo qu...</td>\n",
       "    </tr>\n",
       "    <tr>\n",
       "      <th>1442714</th>\n",
       "      <td>EduardoAlegri16</td>\n",
       "      <td>@tere_marinovic Justamente la  mayor ausente e...</td>\n",
       "    </tr>\n",
       "    <tr>\n",
       "      <th>1442715</th>\n",
       "      <td>AlonsoRPatriota</td>\n",
       "      <td>@maluchayallego Historica debería ser, el dar ...</td>\n",
       "    </tr>\n",
       "    <tr>\n",
       "      <th>1442716</th>\n",
       "      <td>Patrici62107378</td>\n",
       "      <td>@maluchayallego Historico seria si toda las lu...</td>\n",
       "    </tr>\n",
       "  </tbody>\n",
       "</table>\n",
       "<p>1442717 rows × 2 columns</p>\n",
       "</div>"
      ],
      "text/plain": [
       "                    user                                              tweet\n",
       "0            simonlodijo  @unveranonaranja @ruidosafest @franciscamusic ...\n",
       "1        MacaSimplemente  @LaSuRivas @ElisaLoncon @siliconvalle @Valdebe...\n",
       "2        LuisVer75699645    @teanval0207 @izkia @arturozunigaj Excelente...\n",
       "3               MITERRED           @mcubillossigall https://t.co/gkg5PwbZhZ\n",
       "4         piaelizabethvm  @simonlodijo @ruidosafest @franciscamusic @gio...\n",
       "...                  ...                                                ...\n",
       "1442712  hocikonapatriot  @tere_marinovic fuiste la voz de muchos chilen...\n",
       "1442713  Caroline_walls6  @tere_marinovic Si la Tere pudiera decir lo qu...\n",
       "1442714  EduardoAlegri16  @tere_marinovic Justamente la  mayor ausente e...\n",
       "1442715  AlonsoRPatriota  @maluchayallego Historica debería ser, el dar ...\n",
       "1442716  Patrici62107378  @maluchayallego Historico seria si toda las lu...\n",
       "\n",
       "[1442717 rows x 2 columns]"
      ]
     },
     "execution_count": 9,
     "metadata": {},
     "output_type": "execute_result"
    }
   ],
   "source": [
    "retweets = pd.DataFrame()\n",
    "\n",
    "split_text = rt['text'].str.split(' ', expand=True, n=2)\n",
    "retweets['user'] = split_text[1].str.strip(\"@\").str.strip(':')\n",
    "retweets['tweet'] = split_text[2]\n",
    "\n",
    "retweets.reset_index(drop=True, inplace=True)\n",
    "\n",
    "tweets_originales.rename(columns={'screen_name': 'user', 'text': 'tweet'}, inplace=True)\n",
    "\n",
    "tweets = pd.concat([tweets_originales, retweets]).reset_index(drop=True)\n",
    "\n",
    "final_tweets = tweets.drop_duplicates(['user', 'tweet'], ignore_index=True)\n",
    "\n",
    "final_tweets"
   ]
  },
  {
   "cell_type": "code",
   "execution_count": 10,
   "metadata": {},
   "outputs": [],
   "source": [
    "tweet_shingles = {}\n",
    "\n",
    "k = 4\n",
    "batch_size = 100000 # La cantidad del lote depende unicamente de la capacidad el hardware donde se ejecuta\n",
    "cantidad = final_tweets.shape[0]\n",
    "\n",
    "for carga in range(0, cantidad, batch_size):\n",
    "    batch_end = min(carga + batch_size, cantidad)\n",
    "    batch_tweets = final_tweets.iloc[carga:batch_end]\n",
    "\n",
    "    for tweet in batch_tweets.itertuples():\n",
    "        user = tweet.user\n",
    "        tweet_text = tweet.tweet\n",
    "\n",
    "        shingles = set(tweet_text[i:i+k] for i in range(len(tweet_text) - k + 1))\n",
    "        tweet_shingles.setdefault(user, set()).update(shingles)"
   ]
  },
  {
   "cell_type": "code",
   "execution_count": 12,
   "metadata": {},
   "outputs": [],
   "source": [
    "# Crear el índice LSH\n",
    "forest = MinHashLSHForest(num_perm=128)  # Ajusta el número de permutaciones según tus necesidades\n",
    "\n",
    "# Agregar los MinHash de los usuarios al índice LSH\n",
    "for user, shingles in tweet_shingles.items():\n",
    "    minhash = MinHash(num_perm=128)  # Ajusta el número de permutaciones según tus necesidades\n",
    "    \n",
    "    for shingle in shingles:\n",
    "        minhash.update(shingle.encode('utf-8'))\n",
    "    \n",
    "    forest.add(user, minhash)\n",
    "\n",
    "# Construir el índice LSH\n",
    "forest.index()\n",
    "\n",
    "# Definir el umbral de similaridad de Jaccard\n",
    "threshold = 0.6\n",
    "\n",
    "# Encontrar usuarios similares utilizando LSH\n",
    "user_similares = defaultdict(set)\n",
    "\n",
    "for user, shingles in tweet_shingles.items():\n",
    "    minhash_query = MinHash(num_perm=128)  # Ajusta el número de permutaciones según tus necesidades\n",
    "    \n",
    "    for shingle in shingles:\n",
    "        minhash_query.update(shingle.encode('utf-8'))\n",
    "    \n",
    "    # Consultar el índice LSH para encontrar los usuarios similares\n",
    "    result = forest.query(minhash_query, k=4)  # Ajusta el valor de 'k' según tus necesidades\n",
    "    \n",
    "    for similar_user in result:\n",
    "        if similar_user != user:  # Excluir el mismo usuario de la lista de usuarios similares\n",
    "            similarity = jaccard_similarity(tweet_shingles[user], tweet_shingles[similar_user])\n",
    "            if threshold <= similarity < 0.9:\n",
    "                user_similares[user].add((similar_user, similarity))"
   ]
  },
  {
   "cell_type": "code",
   "execution_count": 13,
   "metadata": {},
   "outputs": [],
   "source": [
    "filtered_user = {x: user_similares[x] for x in user_similares.keys() if len(final_tweets.loc[final_tweets['user'] == x]) >= 3}"
   ]
  },
  {
   "cell_type": "code",
   "execution_count": 14,
   "metadata": {},
   "outputs": [
    {
     "data": {
      "text/plain": [
       "{'Ilustradocl': {('andystefano', 0.7586206896551724)},\n",
       " 'Luisgermanleon': {('GatinesG', 0.6666666666666666)},\n",
       " 'OmRadioAr': {('OmNoticiasAr', 0.6923076923076923)},\n",
       " 'OmNoticiasAr': {('OmRadioAr', 0.6923076923076923)},\n",
       " 'JuanaVergaraMu1': {('Marceloalexia1', 0.6216216216216216)},\n",
       " 'gonzaloignacioh': {('polatapia', 0.6666666666666666)},\n",
       " 'Jaimefuenteal10': {('f57271a3ae2c433', 0.7352941176470589),\n",
       "  ('gonzalotv13', 0.7058823529411765),\n",
       "  ('mfaziom', 0.6857142857142857)},\n",
       " 'jminnovando': {('jmovandojeria', 0.6273164035689773)},\n",
       " 'Red_nuble': {('Red_OHiggins', 0.6302816901408451)},\n",
       " 'Rodrigo69982619': {('Luz_Carimoney', 0.6229508196721312)},\n",
       " 'salvador_vimua': {('Paonessa', 0.6666666666666666),\n",
       "  ('Weedo04060798', 0.6470588235294118)},\n",
       " 'andystefano': {('Ilustradocl', 0.7586206896551724)},\n",
       " 'ladyvichile': {('kirtclem', 0.6956521739130435)},\n",
       " 'Fco__Vasquez': {('Hermini63800027', 0.7391304347826086),\n",
       "  ('SportZeta', 0.7083333333333334),\n",
       "  ('erikabriones', 0.7391304347826086)},\n",
       " 'eolicochile': {('catywinter', 0.7204301075268817)},\n",
       " 'Elviracristi': {('Fvaldessilva', 0.7887323943661971),\n",
       "  ('VidelaGracie', 0.6185567010309279),\n",
       "  ('archrw', 0.6883116883116883)},\n",
       " 'claudiaheiss': {('erikzu', 0.6119402985074627)},\n",
       " 'AtitaCano': {('Fdo__Cespedes', 0.75),\n",
       "  ('juangaleanorey', 0.75),\n",
       "  ('marielameed', 0.7647058823529411)},\n",
       " 'catywinter': {('eolicochile', 0.7204301075268817)},\n",
       " 'Red_OHiggins': {('Red_nuble', 0.6302816901408451)},\n",
       " 'c_martinez_a': {('RebecaRR5', 0.6666666666666666),\n",
       "  ('TamiRSilM', 0.6666666666666666),\n",
       "  ('angievandew', 0.6666666666666666)},\n",
       " 'j_avm30': {('MahurisioArroyo', 0.68)},\n",
       " 'macalder58': {('davidro27', 0.6818181818181818),\n",
       "  ('valemoragam', 0.6896551724137931)},\n",
       " 'ciborg3d': {('Darwinchavez23', 0.7272727272727273)},\n",
       " 'chrisre00266820': {('NadineSnchezLa1', 0.6956521739130435)},\n",
       " 'Demente19947410': {('ErrorMatrix_CL', 0.7086092715231788),\n",
       "  ('diegocerpa34', 0.7346938775510204),\n",
       "  ('jaime1966armin', 0.7181208053691275)},\n",
       " 'jmovandojeria': {('jminnovando', 0.6273164035689773)}}"
      ]
     },
     "execution_count": 14,
     "metadata": {},
     "output_type": "execute_result"
    }
   ],
   "source": [
    "filtered_user"
   ]
  },
  {
   "cell_type": "code",
   "execution_count": 32,
   "metadata": {},
   "outputs": [
    {
     "data": {
      "text/html": [
       "<div>\n",
       "<style scoped>\n",
       "    .dataframe tbody tr th:only-of-type {\n",
       "        vertical-align: middle;\n",
       "    }\n",
       "\n",
       "    .dataframe tbody tr th {\n",
       "        vertical-align: top;\n",
       "    }\n",
       "\n",
       "    .dataframe thead th {\n",
       "        text-align: right;\n",
       "    }\n",
       "</style>\n",
       "<table border=\"1\" class=\"dataframe\">\n",
       "  <thead>\n",
       "    <tr style=\"text-align: right;\">\n",
       "      <th></th>\n",
       "      <th>user</th>\n",
       "      <th>tweet</th>\n",
       "    </tr>\n",
       "  </thead>\n",
       "  <tbody>\n",
       "    <tr>\n",
       "      <th>37300</th>\n",
       "      <td>Luisgermanleon</td>\n",
       "      <td>#Valdiviacl</td>\n",
       "    </tr>\n",
       "    <tr>\n",
       "      <th>227315</th>\n",
       "      <td>Luisgermanleon</td>\n",
       "      <td>#ValdiviaCL</td>\n",
       "    </tr>\n",
       "    <tr>\n",
       "      <th>418266</th>\n",
       "      <td>Luisgermanleon</td>\n",
       "      <td>#valdiviacl</td>\n",
       "    </tr>\n",
       "  </tbody>\n",
       "</table>\n",
       "</div>"
      ],
      "text/plain": [
       "                  user        tweet\n",
       "37300   Luisgermanleon  #Valdiviacl\n",
       "227315  Luisgermanleon  #ValdiviaCL\n",
       "418266  Luisgermanleon  #valdiviacl"
      ]
     },
     "execution_count": 32,
     "metadata": {},
     "output_type": "execute_result"
    }
   ],
   "source": [
    "final_tweets.loc[final_tweets['user'] == 'Luisgermanleon']"
   ]
  },
  {
   "cell_type": "code",
   "execution_count": 28,
   "metadata": {},
   "outputs": [
    {
     "data": {
      "text/plain": [
       "{('andystefano', 0.7586206896551724)}"
      ]
     },
     "execution_count": 28,
     "metadata": {},
     "output_type": "execute_result"
    }
   ],
   "source": [
    "filtered_user['Ilustradocl']"
   ]
  },
  {
   "cell_type": "code",
   "execution_count": 29,
   "metadata": {},
   "outputs": [
    {
     "data": {
      "text/plain": [
       "{('Ilustradocl', 0.7586206896551724)}"
      ]
     },
     "execution_count": 29,
     "metadata": {},
     "output_type": "execute_result"
    }
   ],
   "source": [
    "filtered_user['andystefano']"
   ]
  },
  {
   "cell_type": "code",
   "execution_count": 16,
   "metadata": {},
   "outputs": [
    {
     "data": {
      "text/html": [
       "<div>\n",
       "<style scoped>\n",
       "    .dataframe tbody tr th:only-of-type {\n",
       "        vertical-align: middle;\n",
       "    }\n",
       "\n",
       "    .dataframe tbody tr th {\n",
       "        vertical-align: top;\n",
       "    }\n",
       "\n",
       "    .dataframe thead th {\n",
       "        text-align: right;\n",
       "    }\n",
       "</style>\n",
       "<table border=\"1\" class=\"dataframe\">\n",
       "  <thead>\n",
       "    <tr style=\"text-align: right;\">\n",
       "      <th></th>\n",
       "      <th>user</th>\n",
       "      <th>tweet</th>\n",
       "    </tr>\n",
       "  </thead>\n",
       "  <tbody>\n",
       "    <tr>\n",
       "      <th>111101</th>\n",
       "      <td>andystefano</td>\n",
       "      <td>La ironía de Jorge Baradit tras llamativo disc...</td>\n",
       "    </tr>\n",
       "    <tr>\n",
       "      <th>128802</th>\n",
       "      <td>andystefano</td>\n",
       "      <td>Desde “pervertido” a “escombro”: la fuerte pel...</td>\n",
       "    </tr>\n",
       "    <tr>\n",
       "      <th>149418</th>\n",
       "      <td>andystefano</td>\n",
       "      <td>Madre de Boric: “Gabriel se inmoló por la Conv...</td>\n",
       "    </tr>\n",
       "    <tr>\n",
       "      <th>417647</th>\n",
       "      <td>andystefano</td>\n",
       "      <td>Estudio indica que 58% de las personas ha reci...</td>\n",
       "    </tr>\n",
       "    <tr>\n",
       "      <th>542181</th>\n",
       "      <td>andystefano</td>\n",
       "      <td>Javier Olivares indignado con la Convención Co...</td>\n",
       "    </tr>\n",
       "    <tr>\n",
       "      <th>824064</th>\n",
       "      <td>andystefano</td>\n",
       "      <td>Teresa Marinovic confirma que donará todo el d...</td>\n",
       "    </tr>\n",
       "    <tr>\n",
       "      <th>906008</th>\n",
       "      <td>andystefano</td>\n",
       "      <td>El nuevo pataleo de Teresa Marinovic: rechazó ...</td>\n",
       "    </tr>\n",
       "    <tr>\n",
       "      <th>1029804</th>\n",
       "      <td>andystefano</td>\n",
       "      <td>Rayan monumento de Huanchaca en contra de la C...</td>\n",
       "    </tr>\n",
       "    <tr>\n",
       "      <th>1220574</th>\n",
       "      <td>andystefano</td>\n",
       "      <td>Guarello dice que Baradit cobró por dar charla...</td>\n",
       "    </tr>\n",
       "    <tr>\n",
       "      <th>1232527</th>\n",
       "      <td>andystefano</td>\n",
       "      <td>Ministra Jara y presidenta de la Convención Co...</td>\n",
       "    </tr>\n",
       "  </tbody>\n",
       "</table>\n",
       "</div>"
      ],
      "text/plain": [
       "                user                                              tweet\n",
       "111101   andystefano  La ironía de Jorge Baradit tras llamativo disc...\n",
       "128802   andystefano  Desde “pervertido” a “escombro”: la fuerte pel...\n",
       "149418   andystefano  Madre de Boric: “Gabriel se inmoló por la Conv...\n",
       "417647   andystefano  Estudio indica que 58% de las personas ha reci...\n",
       "542181   andystefano  Javier Olivares indignado con la Convención Co...\n",
       "824064   andystefano  Teresa Marinovic confirma que donará todo el d...\n",
       "906008   andystefano  El nuevo pataleo de Teresa Marinovic: rechazó ...\n",
       "1029804  andystefano  Rayan monumento de Huanchaca en contra de la C...\n",
       "1220574  andystefano  Guarello dice que Baradit cobró por dar charla...\n",
       "1232527  andystefano  Ministra Jara y presidenta de la Convención Co..."
      ]
     },
     "execution_count": 16,
     "metadata": {},
     "output_type": "execute_result"
    }
   ],
   "source": [
    "final_tweets.loc[final_tweets['user'] == 'andystefano']"
   ]
  },
  {
   "cell_type": "code",
   "execution_count": 23,
   "metadata": {},
   "outputs": [
    {
     "data": {
      "text/html": [
       "<div>\n",
       "<style scoped>\n",
       "    .dataframe tbody tr th:only-of-type {\n",
       "        vertical-align: middle;\n",
       "    }\n",
       "\n",
       "    .dataframe tbody tr th {\n",
       "        vertical-align: top;\n",
       "    }\n",
       "\n",
       "    .dataframe thead th {\n",
       "        text-align: right;\n",
       "    }\n",
       "</style>\n",
       "<table border=\"1\" class=\"dataframe\">\n",
       "  <thead>\n",
       "    <tr style=\"text-align: right;\">\n",
       "      <th></th>\n",
       "      <th>user</th>\n",
       "      <th>tweet</th>\n",
       "    </tr>\n",
       "  </thead>\n",
       "  <tbody>\n",
       "    <tr>\n",
       "      <th>12419</th>\n",
       "      <td>Ilustradocl</td>\n",
       "      <td>Desde “pervertido” a “escombro”: la fuerte pel...</td>\n",
       "    </tr>\n",
       "    <tr>\n",
       "      <th>53107</th>\n",
       "      <td>Ilustradocl</td>\n",
       "      <td>La ironía de Jorge Baradit tras llamativo disc...</td>\n",
       "    </tr>\n",
       "    <tr>\n",
       "      <th>208428</th>\n",
       "      <td>Ilustradocl</td>\n",
       "      <td>Madre de Boric: “Gabriel se inmoló por la Conv...</td>\n",
       "    </tr>\n",
       "    <tr>\n",
       "      <th>249197</th>\n",
       "      <td>Ilustradocl</td>\n",
       "      <td>Estudio indica que 58% de las personas ha reci...</td>\n",
       "    </tr>\n",
       "    <tr>\n",
       "      <th>487798</th>\n",
       "      <td>Ilustradocl</td>\n",
       "      <td>Javier Olivares indignado con la Convención Co...</td>\n",
       "    </tr>\n",
       "    <tr>\n",
       "      <th>728091</th>\n",
       "      <td>Ilustradocl</td>\n",
       "      <td>Teresa Marinovic confirma que donará todo el d...</td>\n",
       "    </tr>\n",
       "    <tr>\n",
       "      <th>754377</th>\n",
       "      <td>Ilustradocl</td>\n",
       "      <td>Ministra Jara y presidenta de la Convención Co...</td>\n",
       "    </tr>\n",
       "    <tr>\n",
       "      <th>851438</th>\n",
       "      <td>Ilustradocl</td>\n",
       "      <td>El nuevo pataleo de Teresa Marinovic: rechazó ...</td>\n",
       "    </tr>\n",
       "    <tr>\n",
       "      <th>947627</th>\n",
       "      <td>Ilustradocl</td>\n",
       "      <td>Guarello dice que Baradit cobró por dar charla...</td>\n",
       "    </tr>\n",
       "    <tr>\n",
       "      <th>1070729</th>\n",
       "      <td>Ilustradocl</td>\n",
       "      <td>Rayan monumento de Huanchaca en contra de la C...</td>\n",
       "    </tr>\n",
       "    <tr>\n",
       "      <th>1257665</th>\n",
       "      <td>Ilustradocl</td>\n",
       "      <td>Estudio indica que 58% de las personas ha reci...</td>\n",
       "    </tr>\n",
       "  </tbody>\n",
       "</table>\n",
       "</div>"
      ],
      "text/plain": [
       "                user                                              tweet\n",
       "12419    Ilustradocl  Desde “pervertido” a “escombro”: la fuerte pel...\n",
       "53107    Ilustradocl  La ironía de Jorge Baradit tras llamativo disc...\n",
       "208428   Ilustradocl  Madre de Boric: “Gabriel se inmoló por la Conv...\n",
       "249197   Ilustradocl  Estudio indica que 58% de las personas ha reci...\n",
       "487798   Ilustradocl  Javier Olivares indignado con la Convención Co...\n",
       "728091   Ilustradocl  Teresa Marinovic confirma que donará todo el d...\n",
       "754377   Ilustradocl  Ministra Jara y presidenta de la Convención Co...\n",
       "851438   Ilustradocl  El nuevo pataleo de Teresa Marinovic: rechazó ...\n",
       "947627   Ilustradocl  Guarello dice que Baradit cobró por dar charla...\n",
       "1070729  Ilustradocl  Rayan monumento de Huanchaca en contra de la C...\n",
       "1257665  Ilustradocl  Estudio indica que 58% de las personas ha reci..."
      ]
     },
     "execution_count": 23,
     "metadata": {},
     "output_type": "execute_result"
    }
   ],
   "source": [
    "final_tweets.loc[final_tweets['user'] == 'Ilustradocl']"
   ]
  }
 ],
 "metadata": {
  "kernelspec": {
   "display_name": "Python 3",
   "language": "python",
   "name": "python3"
  },
  "language_info": {
   "codemirror_mode": {
    "name": "ipython",
    "version": 3
   },
   "file_extension": ".py",
   "mimetype": "text/x-python",
   "name": "python",
   "nbconvert_exporter": "python",
   "pygments_lexer": "ipython3",
   "version": "3.9.13"
  },
  "orig_nbformat": 4
 },
 "nbformat": 4,
 "nbformat_minor": 2
}
